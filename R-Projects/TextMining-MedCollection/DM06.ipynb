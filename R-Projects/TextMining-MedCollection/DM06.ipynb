{
 "cells": [
  {
   "cell_type": "markdown",
   "metadata": {},
   "source": [
    "## Data Mining Assignment 6\n",
    "### Author G. Gordon\n",
    "### Lecturer  Dr. Pawan Lingras\n",
    "March 6, 2016"
   ]
  },
  {
   "cell_type": "markdown",
   "metadata": {},
   "source": [
    "## Data Preparation\n",
    "\n",
    "An archive available at (http://dev.cs.smu.ca/~pawan/5580/notes/week08/textMining/med/med.all.Z) was unzipped to retrieve a file named 'med.all'\n",
    "\n",
    "The following Java code was used to split the aforementioned file into separate files .\n",
    "\n",
    "```\n",
    "\n",
    "import java.util.regex.Pattern;\n",
    "import java.io.*;\n",
    "\n",
    "/**\n",
    " * @author ggordon\n",
    " * @created 6.3.2016\n",
    " */\n",
    "public class FileSeparator {\n",
    "\n",
    "\tprivate final static String DIR = \"medCollection\";\n",
    "\n",
    "\t/**\n",
    "\t * @param args\n",
    "\t */\n",
    "\tpublic static void main(String[] args) {\n",
    "\t\tSystem.out.println(\"Received : \" + args.length + \" args\");\n",
    "\t\tif (args.length == 0) {\n",
    "             //use default file\n",
    "\t\t\targs = new String[]{\"dm06/med.all\"};\n",
    "\t\t}\n",
    "\t\tfor (String arg : args) {\n",
    "\t\t\tSystem.out.println(\"Parsing File : \" + arg);\n",
    "\t\t\tparseFile(arg);\n",
    "\t\t}\n",
    "        System.out.println(\"Parsing Complete\");\n",
    "\t}\n",
    "\n",
    "\tprivate static void parseFile(String fileName) {\n",
    "\t\tPattern newStoryPattern = Pattern.compile(\"\\\\.I [0-9]+\");\n",
    "\t\ttry {\n",
    "\t\t\tverifyDirectoryExists();\n",
    "\t\t\tFile f = new File(fileName);\n",
    "\n",
    "\t\t\tBufferedReader br = new BufferedReader(new FileReader(f));\n",
    "\n",
    "\t\t\tString line = null, story = \"\", filename = null;\n",
    "\t\t\tFileWriter tempStoryFile = null;\n",
    "\n",
    "\t\t\twhile ((line = br.readLine()) != null) {\n",
    "\n",
    "\t\t\t\t// verify whether new file should start\n",
    "\t\t\t\tif (newStoryPattern.matcher(line).find()) {\n",
    "\t\t\t\t\tsaveStory(tempStoryFile,story,filename);\n",
    "\t\t\t\t\t// refresh buffers\n",
    "\t\t\t\t\tstory = \"\";\n",
    "\t\t\t\t\t\n",
    "\t\t\t\t\t// get filename\n",
    "\t\t\t\t\tfilename = DIR + File.separator + line.split(\" \")[1] + \".txt\";\n",
    "\t\t\t\t\t\n",
    "\t\t\t\t\t// create new file write\n",
    "\t\t\t\t\ttempStoryFile = new FileWriter(filename);\n",
    "\n",
    "\t\t\t\t\t// skip .I and .W line\n",
    "\t\t\t\t\tline = br.readLine();\n",
    "\t\t\t\t\tline = br.readLine();\n",
    "\n",
    "\t\t\t\t}\n",
    "\t\t\t\tstory += line + \"\\n\";\n",
    "\t\t\t}\n",
    "\t\t\tsaveStory(tempStoryFile,story,filename);\n",
    "\t\t\tbr.close();\n",
    "\t\t} catch (Exception e) {\n",
    "\t\t\te.printStackTrace(System.err);\n",
    "\t\t}\n",
    "\t}\n",
    "\t\n",
    "\tprivate static void saveStory(FileWriter tempStoryFile,String story, String filename) throws IOException{\n",
    "\t\tif(tempStoryFile != null){\n",
    "\t\t\ttempStoryFile.write(story);\n",
    "\t\t\tSystem.out.println(\"Created \"+filename);\n",
    "\t\t    tempStoryFile.close();\n",
    "\t\t}\n",
    "\t}\n",
    "\n",
    "\tprivate static boolean verifyDirectoryExists() {\n",
    "\t\ttry {\n",
    "\t\t\tFile dir = new File(DIR);\n",
    "\t\t\tif (dir.isDirectory())\n",
    "\t\t\t\treturn true;\n",
    "\t\t\treturn dir.mkdir();\n",
    "\t\t} catch (Exception e) {\n",
    "\t\t\te.printStackTrace(System.err);\n",
    "\t\t\treturn false;\n",
    "\t\t}\n",
    "\t}\n",
    "\n",
    "}\n",
    "\n",
    "```\n",
    "\n",
    "## Data Analyis"
   ]
  },
  {
   "cell_type": "code",
   "execution_count": 1,
   "metadata": {
    "collapsed": false
   },
   "outputs": [
    {
     "name": "stderr",
     "output_type": "stream",
     "text": [
      "Loading required package: NLP\n"
     ]
    }
   ],
   "source": [
    "library(tm)"
   ]
  },
  {
   "cell_type": "code",
   "execution_count": 21,
   "metadata": {
    "collapsed": false
   },
   "outputs": [
    {
     "data": {
      "text/plain": [
       "<<PlainTextDocument>>\n",
       "Metadata:  7\n",
       "Content:  chars: 1562"
      ]
     },
     "execution_count": 21,
     "metadata": {},
     "output_type": "execute_result"
    }
   ],
   "source": [
    "medCollection=Corpus(DirSource(\"medCollection\"))\n",
    "medCollection[[\"2.txt\"]]\n",
    "# inspect(medCollection)"
   ]
  },
  {
   "cell_type": "code",
   "execution_count": 22,
   "metadata": {
    "collapsed": true
   },
   "outputs": [],
   "source": [
    "medCollection=tm_map(medCollection,removePunctuation)"
   ]
  },
  {
   "cell_type": "code",
   "execution_count": 24,
   "metadata": {
    "collapsed": true
   },
   "outputs": [],
   "source": [
    "medCollection=tm_map(medCollection,stripWhitespace)"
   ]
  },
  {
   "cell_type": "code",
   "execution_count": 19,
   "metadata": {
    "collapsed": true
   },
   "outputs": [],
   "source": [
    "#medCollection=tm_map(medCollection,tolower)"
   ]
  },
  {
   "cell_type": "code",
   "execution_count": 25,
   "metadata": {
    "collapsed": true
   },
   "outputs": [],
   "source": [
    "medCollection=tm_map(medCollection,removeWords,stopwords(\"english\"))"
   ]
  },
  {
   "cell_type": "code",
   "execution_count": 27,
   "metadata": {
    "collapsed": true
   },
   "outputs": [],
   "source": [
    "medCollection=tm_map(medCollection,stemDocument)"
   ]
  },
  {
   "cell_type": "code",
   "execution_count": 12,
   "metadata": {
    "collapsed": false
   },
   "outputs": [
    {
     "data": {
      "text/plain": [
       "<<VCorpus>>\n",
       "Metadata:  corpus specific: 0, document level (indexed): 0\n",
       "Content:  documents: 1"
      ]
     },
     "execution_count": 12,
     "metadata": {},
     "output_type": "execute_result"
    }
   ],
   "source": [
    "#inspect(medCollection)\n",
    "medCollection[\"2.txt\"]"
   ]
  },
  {
   "cell_type": "code",
   "execution_count": 28,
   "metadata": {
    "collapsed": false
   },
   "outputs": [],
   "source": [
    "dtmMedCollection = DocumentTermMatrix(medCollection)"
   ]
  },
  {
   "cell_type": "code",
   "execution_count": 30,
   "metadata": {
    "collapsed": false
   },
   "outputs": [],
   "source": [
    "#inspect(dtmMedCollection[,30:35])"
   ]
  },
  {
   "cell_type": "code",
   "execution_count": 32,
   "metadata": {
    "collapsed": false
   },
   "outputs": [
    {
     "data": {
      "text/html": [
       "<ol class=list-inline>\n",
       "\t<li>'100'</li>\n",
       "\t<li>'1000'</li>\n",
       "\t<li>'116'</li>\n",
       "\t<li>'120'</li>\n",
       "\t<li>'125'</li>\n",
       "\t<li>'131'</li>\n",
       "\t<li>'150'</li>\n",
       "\t<li>'1500'</li>\n",
       "\t<li>'168'</li>\n",
       "\t<li>'17hydroxycorticosteroid'</li>\n",
       "\t<li>'17ketosteroid'</li>\n",
       "\t<li>'17ohc'</li>\n",
       "\t<li>'17oxosteroid'</li>\n",
       "\t<li>'1959'</li>\n",
       "\t<li>'1960'</li>\n",
       "\t<li>'1961'</li>\n",
       "\t<li>'1962'</li>\n",
       "\t<li>'1963'</li>\n",
       "\t<li>'1964'</li>\n",
       "\t<li>'1st'</li>\n",
       "\t<li>'200'</li>\n",
       "\t<li>'250'</li>\n",
       "\t<li>'2nd'</li>\n",
       "\t<li>'300'</li>\n",
       "\t<li>'3rd'</li>\n",
       "\t<li>'4th'</li>\n",
       "\t<li>'500'</li>\n",
       "\t<li>'5fluorouracil'</li>\n",
       "\t<li>'5year'</li>\n",
       "\t<li>'600'</li>\n",
       "\t<li>'6mercaptopurin'</li>\n",
       "\t<li>'6phosphat'</li>\n",
       "\t<li>'99m'</li>\n",
       "\t<li>'abdomin'</li>\n",
       "\t<li>'aberr'</li>\n",
       "\t<li>'abil'</li>\n",
       "\t<li>'abl'</li>\n",
       "\t<li>'abnorm'</li>\n",
       "\t<li>'abolish'</li>\n",
       "\t<li>'abort'</li>\n",
       "\t<li>'absenc'</li>\n",
       "\t<li>'absent'</li>\n",
       "\t<li>'absolut'</li>\n",
       "\t<li>'absorb'</li>\n",
       "\t<li>'absorpt'</li>\n",
       "</ol>\n"
      ],
      "text/latex": [
       "\\begin{enumerate*}\n",
       "\\item '100'\n",
       "\\item '1000'\n",
       "\\item '116'\n",
       "\\item '120'\n",
       "\\item '125'\n",
       "\\item '131'\n",
       "\\item '150'\n",
       "\\item '1500'\n",
       "\\item '168'\n",
       "\\item '17hydroxycorticosteroid'\n",
       "\\item '17ketosteroid'\n",
       "\\item '17ohc'\n",
       "\\item '17oxosteroid'\n",
       "\\item '1959'\n",
       "\\item '1960'\n",
       "\\item '1961'\n",
       "\\item '1962'\n",
       "\\item '1963'\n",
       "\\item '1964'\n",
       "\\item '1st'\n",
       "\\item '200'\n",
       "\\item '250'\n",
       "\\item '2nd'\n",
       "\\item '300'\n",
       "\\item '3rd'\n",
       "\\item '4th'\n",
       "\\item '500'\n",
       "\\item '5fluorouracil'\n",
       "\\item '5year'\n",
       "\\item '600'\n",
       "\\item '6mercaptopurin'\n",
       "\\item '6phosphat'\n",
       "\\item '99m'\n",
       "\\item 'abdomin'\n",
       "\\item 'aberr'\n",
       "\\item 'abil'\n",
       "\\item 'abl'\n",
       "\\item 'abnorm'\n",
       "\\item 'abolish'\n",
       "\\item 'abort'\n",
       "\\item 'absenc'\n",
       "\\item 'absent'\n",
       "\\item 'absolut'\n",
       "\\item 'absorb'\n",
       "\\item 'absorpt'\n",
       "\\end{enumerate*}\n"
      ],
      "text/markdown": [
       "1. '100'\n",
       "2. '1000'\n",
       "3. '116'\n",
       "4. '120'\n",
       "5. '125'\n",
       "6. '131'\n",
       "7. '150'\n",
       "8. '1500'\n",
       "9. '168'\n",
       "10. '17hydroxycorticosteroid'\n",
       "11. '17ketosteroid'\n",
       "12. '17ohc'\n",
       "13. '17oxosteroid'\n",
       "14. '1959'\n",
       "15. '1960'\n",
       "16. '1961'\n",
       "17. '1962'\n",
       "18. '1963'\n",
       "19. '1964'\n",
       "20. '1st'\n",
       "21. '200'\n",
       "22. '250'\n",
       "23. '2nd'\n",
       "24. '300'\n",
       "25. '3rd'\n",
       "26. '4th'\n",
       "27. '500'\n",
       "28. '5fluorouracil'\n",
       "29. '5year'\n",
       "30. '600'\n",
       "31. '6mercaptopurin'\n",
       "32. '6phosphat'\n",
       "33. '99m'\n",
       "34. 'abdomin'\n",
       "35. 'aberr'\n",
       "36. 'abil'\n",
       "37. 'abl'\n",
       "38. 'abnorm'\n",
       "39. 'abolish'\n",
       "40. 'abort'\n",
       "41. 'absenc'\n",
       "42. 'absent'\n",
       "43. 'absolut'\n",
       "44. 'absorb'\n",
       "45. 'absorpt'\n",
       "\n",
       "\n"
      ],
      "text/plain": [
       " [1] \"100\"                     \"1000\"                   \n",
       " [3] \"116\"                     \"120\"                    \n",
       " [5] \"125\"                     \"131\"                    \n",
       " [7] \"150\"                     \"1500\"                   \n",
       " [9] \"168\"                     \"17hydroxycorticosteroid\"\n",
       "[11] \"17ketosteroid\"           \"17ohc\"                  \n",
       "[13] \"17oxosteroid\"            \"1959\"                   \n",
       "[15] \"1960\"                    \"1961\"                   \n",
       "[17] \"1962\"                    \"1963\"                   \n",
       "[19] \"1964\"                    \"1st\"                    \n",
       "[21] \"200\"                     \"250\"                    \n",
       "[23] \"2nd\"                     \"300\"                    \n",
       "[25] \"3rd\"                     \"4th\"                    \n",
       "[27] \"500\"                     \"5fluorouracil\"          \n",
       "[29] \"5year\"                   \"600\"                    \n",
       "[31] \"6mercaptopurin\"          \"6phosphat\"              \n",
       "[33] \"99m\"                     \"abdomin\"                \n",
       "[35] \"aberr\"                   \"abil\"                   \n",
       "[37] \"abl\"                     \"abnorm\"                 \n",
       "[39] \"abolish\"                 \"abort\"                  \n",
       "[41] \"absenc\"                  \"absent\"                 \n",
       "[43] \"absolut\"                 \"absorb\"                 \n",
       "[45] \"absorpt\"                "
      ]
     },
     "execution_count": 32,
     "metadata": {},
     "output_type": "execute_result"
    }
   ],
   "source": [
    "head(findFreqTerms(dtmMedCollection,5),45)"
   ]
  },
  {
   "cell_type": "code",
   "execution_count": 33,
   "metadata": {
    "collapsed": false
   },
   "outputs": [
    {
     "data": {
      "text/html": [
       "<strong>$data</strong> = <ol class=list-inline>\n",
       "</ol>\n"
      ],
      "text/latex": [
       "\\textbf{\\$data} = \\begin{enumerate*}\n",
       "\\end{enumerate*}\n"
      ],
      "text/markdown": [
       "**$data** = \n",
       "\n"
      ],
      "text/plain": [
       "$data\n",
       "numeric(0)\n"
      ]
     },
     "execution_count": 33,
     "metadata": {},
     "output_type": "execute_result"
    }
   ],
   "source": [
    "findAssocs(dtmMedCollection,\"data\",0.9)"
   ]
  },
  {
   "cell_type": "code",
   "execution_count": 38,
   "metadata": {
    "collapsed": false
   },
   "outputs": [
    {
     "data": {
      "text/html": [
       "<strong>$data</strong> = <dl class=dl-horizontal>\n",
       "\t<dt>miner</dt>\n",
       "\t\t<dd>0.3</dd>\n",
       "\t<dt>1770</dt>\n",
       "\t\t<dd>0.28</dd>\n",
       "\t<dt>alloc</dt>\n",
       "\t\t<dd>0.28</dd>\n",
       "\t<dt>appa</dt>\n",
       "\t\t<dd>0.28</dd>\n",
       "\t<dt>azotaem</dt>\n",
       "\t\t<dd>0.28</dd>\n",
       "\t<dt>bel</dt>\n",
       "\t\t<dd>0.28</dd>\n",
       "\t<dt>bloodureanitrogen</dt>\n",
       "\t\t<dd>0.28</dd>\n",
       "\t<dt>calcem</dt>\n",
       "\t\t<dd>0.28</dd>\n",
       "\t<dt>commit</dt>\n",
       "\t\t<dd>0.28</dd>\n",
       "\t<dt>curvilinear</dt>\n",
       "\t\t<dd>0.28</dd>\n",
       "\t<dt>cytokinet</dt>\n",
       "\t\t<dd>0.28</dd>\n",
       "\t<dt>fibrosa</dt>\n",
       "\t\t<dd>0.28</dd>\n",
       "\t<dt>finit</dt>\n",
       "\t\t<dd>0.28</dd>\n",
       "\t<dt>follicl</dt>\n",
       "\t\t<dd>0.28</dd>\n",
       "\t<dt>ger</dt>\n",
       "\t\t<dd>0.28</dd>\n",
       "\t<dt>h3dna</dt>\n",
       "\t\t<dd>0.28</dd>\n",
       "\t<dt>h3tdr</dt>\n",
       "\t\t<dd>0.28</dd>\n",
       "\t<dt>hypocalcem</dt>\n",
       "\t\t<dd>0.28</dd>\n",
       "\t<dt>indica</dt>\n",
       "\t\t<dd>0.28</dd>\n",
       "\t<dt>liabil</dt>\n",
       "\t\t<dd>0.28</dd>\n",
       "\t<dt>minal</dt>\n",
       "\t\t<dd>0.28</dd>\n",
       "\t<dt>normocalcem</dt>\n",
       "\t\t<dd>0.28</dd>\n",
       "\t<dt>osteiti</dt>\n",
       "\t\t<dd>0.28</dd>\n",
       "\t<dt>plasmacalcium</dt>\n",
       "\t\t<dd>0.28</dd>\n",
       "\t<dt>progenitor</dt>\n",
       "\t\t<dd>0.28</dd>\n",
       "\t<dt>qualli</dt>\n",
       "\t\t<dd>0.28</dd>\n",
       "\t<dt>radioacti</dt>\n",
       "\t\t<dd>0.28</dd>\n",
       "\t<dt>rentli</dt>\n",
       "\t\t<dd>0.28</dd>\n",
       "\t<dt>ricket</dt>\n",
       "\t\t<dd>0.28</dd>\n",
       "\t<dt>sacrif</dt>\n",
       "\t\t<dd>0.28</dd>\n",
       "\t<dt>sugino</dt>\n",
       "\t\t<dd>0.28</dd>\n",
       "\t<dt>thi</dt>\n",
       "\t\t<dd>0.28</dd>\n",
       "\t<dt>thymocyt</dt>\n",
       "\t\t<dd>0.28</dd>\n",
       "\t<dt>thymustyp</dt>\n",
       "\t\t<dd>0.28</dd>\n",
       "\t<dt>vertheless</dt>\n",
       "\t\t<dd>0.28</dd>\n",
       "\t<dt>statist</dt>\n",
       "\t\t<dd>0.25</dd>\n",
       "</dl>\n"
      ],
      "text/latex": [
       "\\textbf{\\$data} = \\begin{description*}\n",
       "\\item[miner] 0.3\n",
       "\\item[1770] 0.28\n",
       "\\item[alloc] 0.28\n",
       "\\item[appa] 0.28\n",
       "\\item[azotaem] 0.28\n",
       "\\item[bel] 0.28\n",
       "\\item[bloodureanitrogen] 0.28\n",
       "\\item[calcem] 0.28\n",
       "\\item[commit] 0.28\n",
       "\\item[curvilinear] 0.28\n",
       "\\item[cytokinet] 0.28\n",
       "\\item[fibrosa] 0.28\n",
       "\\item[finit] 0.28\n",
       "\\item[follicl] 0.28\n",
       "\\item[ger] 0.28\n",
       "\\item[h3dna] 0.28\n",
       "\\item[h3tdr] 0.28\n",
       "\\item[hypocalcem] 0.28\n",
       "\\item[indica] 0.28\n",
       "\\item[liabil] 0.28\n",
       "\\item[minal] 0.28\n",
       "\\item[normocalcem] 0.28\n",
       "\\item[osteiti] 0.28\n",
       "\\item[plasmacalcium] 0.28\n",
       "\\item[progenitor] 0.28\n",
       "\\item[qualli] 0.28\n",
       "\\item[radioacti] 0.28\n",
       "\\item[rentli] 0.28\n",
       "\\item[ricket] 0.28\n",
       "\\item[sacrif] 0.28\n",
       "\\item[sugino] 0.28\n",
       "\\item[thi] 0.28\n",
       "\\item[thymocyt] 0.28\n",
       "\\item[thymustyp] 0.28\n",
       "\\item[vertheless] 0.28\n",
       "\\item[statist] 0.25\n",
       "\\end{description*}\n"
      ],
      "text/markdown": [
       "**$data** = miner\n",
       ":   0.31770\n",
       ":   0.28alloc\n",
       ":   0.28appa\n",
       ":   0.28azotaem\n",
       ":   0.28bel\n",
       ":   0.28bloodureanitrogen\n",
       ":   0.28calcem\n",
       ":   0.28commit\n",
       ":   0.28curvilinear\n",
       ":   0.28cytokinet\n",
       ":   0.28fibrosa\n",
       ":   0.28finit\n",
       ":   0.28follicl\n",
       ":   0.28ger\n",
       ":   0.28h3dna\n",
       ":   0.28h3tdr\n",
       ":   0.28hypocalcem\n",
       ":   0.28indica\n",
       ":   0.28liabil\n",
       ":   0.28minal\n",
       ":   0.28normocalcem\n",
       ":   0.28osteiti\n",
       ":   0.28plasmacalcium\n",
       ":   0.28progenitor\n",
       ":   0.28qualli\n",
       ":   0.28radioacti\n",
       ":   0.28rentli\n",
       ":   0.28ricket\n",
       ":   0.28sacrif\n",
       ":   0.28sugino\n",
       ":   0.28thi\n",
       ":   0.28thymocyt\n",
       ":   0.28thymustyp\n",
       ":   0.28vertheless\n",
       ":   0.28statist\n",
       ":   0.25\n",
       "\n"
      ],
      "text/plain": [
       "$data\n",
       "            miner              1770             alloc              appa \n",
       "             0.30              0.28              0.28              0.28 \n",
       "          azotaem               bel bloodureanitrogen            calcem \n",
       "             0.28              0.28              0.28              0.28 \n",
       "           commit       curvilinear         cytokinet           fibrosa \n",
       "             0.28              0.28              0.28              0.28 \n",
       "            finit           follicl               ger             h3dna \n",
       "             0.28              0.28              0.28              0.28 \n",
       "            h3tdr        hypocalcem            indica            liabil \n",
       "             0.28              0.28              0.28              0.28 \n",
       "            minal       normocalcem           osteiti     plasmacalcium \n",
       "             0.28              0.28              0.28              0.28 \n",
       "       progenitor            qualli         radioacti            rentli \n",
       "             0.28              0.28              0.28              0.28 \n",
       "           ricket            sacrif            sugino               thi \n",
       "             0.28              0.28              0.28              0.28 \n",
       "         thymocyt         thymustyp        vertheless           statist \n",
       "             0.28              0.28              0.28              0.25 \n"
      ]
     },
     "execution_count": 38,
     "metadata": {},
     "output_type": "execute_result"
    }
   ],
   "source": [
    "findAssocs(dtmMedCollection,\"data\",0.25)"
   ]
  },
  {
   "cell_type": "code",
   "execution_count": 39,
   "metadata": {
    "collapsed": false
   },
   "outputs": [
    {
     "name": "stderr",
     "output_type": "stream",
     "text": [
      "Loading required package: RColorBrewer\n"
     ]
    }
   ],
   "source": [
    "library(wordcloud)"
   ]
  },
  {
   "cell_type": "code",
   "execution_count": 40,
   "metadata": {
    "collapsed": true
   },
   "outputs": [],
   "source": [
    "m=as.matrix(dtmMedCollection)"
   ]
  },
  {
   "cell_type": "code",
   "execution_count": 41,
   "metadata": {
    "collapsed": true
   },
   "outputs": [],
   "source": [
    "v=sort(colSums(m),decreasing=TRUE)"
   ]
  },
  {
   "cell_type": "code",
   "execution_count": 42,
   "metadata": {
    "collapsed": true
   },
   "outputs": [],
   "source": [
    "myNames = names(v)"
   ]
  },
  {
   "cell_type": "code",
   "execution_count": 43,
   "metadata": {
    "collapsed": true
   },
   "outputs": [],
   "source": [
    "d=data.frame(word=myNames,freq=v)"
   ]
  },
  {
   "cell_type": "code",
   "execution_count": 45,
   "metadata": {
    "collapsed": false
   },
   "outputs": [],
   "source": [
    "wordcloud(d$word,d$freq,min.freq=2)"
   ]
  },
  {
   "cell_type": "markdown",
   "metadata": {},
   "source": [
    "![png](wordcount.png)"
   ]
  },
  {
   "cell_type": "markdown",
   "metadata": {},
   "source": [
    "## Conclusion\n",
    "\n",
    "Since the support included (0.85) yielded no results, a smaller support bound was used. This implies that the relative occurence of a word in relation to another word was much smaller. The image included above illustrates and highlights the most likely occuring words. \n",
    "\n",
    "A random assumption utiliing the likelihood occurence may imply that the documents parsed described biological experiments which aimed to identify how cells interacted with other agents."
   ]
  }
 ],
 "metadata": {
  "kernelspec": {
   "display_name": "R",
   "language": "R",
   "name": "ir"
  },
  "language_info": {
   "codemirror_mode": "r",
   "file_extension": ".r",
   "mimetype": "text/x-r-source",
   "name": "R",
   "pygments_lexer": "r",
   "version": "3.2.3"
  }
 },
 "nbformat": 4,
 "nbformat_minor": 0
}
